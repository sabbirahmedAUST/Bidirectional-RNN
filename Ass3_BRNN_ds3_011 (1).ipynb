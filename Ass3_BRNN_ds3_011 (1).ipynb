{
  "nbformat": 4,
  "nbformat_minor": 0,
  "metadata": {
    "colab": {
      "name": "Ass3_BRNN_ds3_011.ipynb",
      "provenance": [],
      "collapsed_sections": []
    },
    "kernelspec": {
      "name": "python3",
      "display_name": "Python 3"
    },
    "language_info": {
      "name": "python"
    }
  },
  "cells": [
    {
      "cell_type": "code",
      "metadata": {
        "id": "DwvfX0OmcamD"
      },
      "source": [
        "import pandas as pd\n",
        "import torch   \n",
        "\n",
        "#handling text data\n",
        "from torchtext.legacy import data  \n"
      ],
      "execution_count": 1,
      "outputs": []
    },
    {
      "cell_type": "code",
      "metadata": {
        "colab": {
          "base_uri": "https://localhost:8080/"
        },
        "id": "sRUgzsjVccy7",
        "outputId": "7188abd2-cc1b-4e69-8346-34d216006d00"
      },
      "source": [
        "from google.colab import drive;\n",
        "drive.mount(\"/content/drive\");"
      ],
      "execution_count": 2,
      "outputs": [
        {
          "output_type": "stream",
          "name": "stdout",
          "text": [
            "Mounted at /content/drive\n"
          ]
        }
      ]
    },
    {
      "cell_type": "code",
      "metadata": {
        "colab": {
          "base_uri": "https://localhost:8080/",
          "height": 424
        },
        "id": "OonYABQcce1M",
        "outputId": "fa84ab71-6371-47e8-8221-9e8f50cb9301"
      },
      "source": [
        "data=pd.read_csv('/content/drive/MyDrive/00SoftLab/ass3/Dataset 3.csv',encoding='ISO-8859-1')\n",
        "data"
      ],
      "execution_count": 3,
      "outputs": [
        {
          "output_type": "execute_result",
          "data": {
            "text/html": [
              "<div>\n",
              "<style scoped>\n",
              "    .dataframe tbody tr th:only-of-type {\n",
              "        vertical-align: middle;\n",
              "    }\n",
              "\n",
              "    .dataframe tbody tr th {\n",
              "        vertical-align: top;\n",
              "    }\n",
              "\n",
              "    .dataframe thead th {\n",
              "        text-align: right;\n",
              "    }\n",
              "</style>\n",
              "<table border=\"1\" class=\"dataframe\">\n",
              "  <thead>\n",
              "    <tr style=\"text-align: right;\">\n",
              "      <th></th>\n",
              "      <th>tweets</th>\n",
              "      <th>sentiment</th>\n",
              "    </tr>\n",
              "  </thead>\n",
              "  <tbody>\n",
              "    <tr>\n",
              "      <th>0</th>\n",
              "      <td>just had a real good moment. i missssssssss hi...</td>\n",
              "      <td>0</td>\n",
              "    </tr>\n",
              "    <tr>\n",
              "      <th>1</th>\n",
              "      <td>is reading manga  http://plurk.com/p/mzp1e</td>\n",
              "      <td>0</td>\n",
              "    </tr>\n",
              "    <tr>\n",
              "      <th>2</th>\n",
              "      <td>@comeagainjen http://twitpic.com/2y2lx - http:...</td>\n",
              "      <td>0</td>\n",
              "    </tr>\n",
              "    <tr>\n",
              "      <th>3</th>\n",
              "      <td>@lapcat Need to send 'em to my accountant tomo...</td>\n",
              "      <td>0</td>\n",
              "    </tr>\n",
              "    <tr>\n",
              "      <th>4</th>\n",
              "      <td>ADD ME ON MYSPACE!!!  myspace.com/LookThunder</td>\n",
              "      <td>0</td>\n",
              "    </tr>\n",
              "    <tr>\n",
              "      <th>...</th>\n",
              "      <td>...</td>\n",
              "      <td>...</td>\n",
              "    </tr>\n",
              "    <tr>\n",
              "      <th>10309</th>\n",
              "      <td>No Depression by G Herbo is my mood from now o...</td>\n",
              "      <td>1</td>\n",
              "    </tr>\n",
              "    <tr>\n",
              "      <th>10310</th>\n",
              "      <td>What do you do when depression succumbs the br...</td>\n",
              "      <td>1</td>\n",
              "    </tr>\n",
              "    <tr>\n",
              "      <th>10311</th>\n",
              "      <td>Ketamine Nasal Spray Shows Promise Against Dep...</td>\n",
              "      <td>1</td>\n",
              "    </tr>\n",
              "    <tr>\n",
              "      <th>10312</th>\n",
              "      <td>dont mistake a bad day with depression! everyo...</td>\n",
              "      <td>1</td>\n",
              "    </tr>\n",
              "    <tr>\n",
              "      <th>10313</th>\n",
              "      <td>0</td>\n",
              "      <td>1</td>\n",
              "    </tr>\n",
              "  </tbody>\n",
              "</table>\n",
              "<p>10314 rows × 2 columns</p>\n",
              "</div>"
            ],
            "text/plain": [
              "                                                  tweets  sentiment\n",
              "0      just had a real good moment. i missssssssss hi...          0\n",
              "1             is reading manga  http://plurk.com/p/mzp1e          0\n",
              "2      @comeagainjen http://twitpic.com/2y2lx - http:...          0\n",
              "3      @lapcat Need to send 'em to my accountant tomo...          0\n",
              "4          ADD ME ON MYSPACE!!!  myspace.com/LookThunder          0\n",
              "...                                                  ...        ...\n",
              "10309  No Depression by G Herbo is my mood from now o...          1\n",
              "10310  What do you do when depression succumbs the br...          1\n",
              "10311  Ketamine Nasal Spray Shows Promise Against Dep...          1\n",
              "10312  dont mistake a bad day with depression! everyo...          1\n",
              "10313                                                  0          1\n",
              "\n",
              "[10314 rows x 2 columns]"
            ]
          },
          "metadata": {},
          "execution_count": 3
        }
      ]
    },
    {
      "cell_type": "code",
      "metadata": {
        "colab": {
          "base_uri": "https://localhost:8080/",
          "height": 224
        },
        "id": "Lm6JsxKocwmT",
        "outputId": "7c1605f2-1bf2-42de-d225-9d90b918f058"
      },
      "source": [
        "print(len(data))\n",
        "data.head()"
      ],
      "execution_count": 4,
      "outputs": [
        {
          "output_type": "stream",
          "name": "stdout",
          "text": [
            "10314\n"
          ]
        },
        {
          "output_type": "execute_result",
          "data": {
            "text/html": [
              "<div>\n",
              "<style scoped>\n",
              "    .dataframe tbody tr th:only-of-type {\n",
              "        vertical-align: middle;\n",
              "    }\n",
              "\n",
              "    .dataframe tbody tr th {\n",
              "        vertical-align: top;\n",
              "    }\n",
              "\n",
              "    .dataframe thead th {\n",
              "        text-align: right;\n",
              "    }\n",
              "</style>\n",
              "<table border=\"1\" class=\"dataframe\">\n",
              "  <thead>\n",
              "    <tr style=\"text-align: right;\">\n",
              "      <th></th>\n",
              "      <th>tweets</th>\n",
              "      <th>sentiment</th>\n",
              "    </tr>\n",
              "  </thead>\n",
              "  <tbody>\n",
              "    <tr>\n",
              "      <th>0</th>\n",
              "      <td>just had a real good moment. i missssssssss hi...</td>\n",
              "      <td>0</td>\n",
              "    </tr>\n",
              "    <tr>\n",
              "      <th>1</th>\n",
              "      <td>is reading manga  http://plurk.com/p/mzp1e</td>\n",
              "      <td>0</td>\n",
              "    </tr>\n",
              "    <tr>\n",
              "      <th>2</th>\n",
              "      <td>@comeagainjen http://twitpic.com/2y2lx - http:...</td>\n",
              "      <td>0</td>\n",
              "    </tr>\n",
              "    <tr>\n",
              "      <th>3</th>\n",
              "      <td>@lapcat Need to send 'em to my accountant tomo...</td>\n",
              "      <td>0</td>\n",
              "    </tr>\n",
              "    <tr>\n",
              "      <th>4</th>\n",
              "      <td>ADD ME ON MYSPACE!!!  myspace.com/LookThunder</td>\n",
              "      <td>0</td>\n",
              "    </tr>\n",
              "  </tbody>\n",
              "</table>\n",
              "</div>"
            ],
            "text/plain": [
              "                                              tweets  sentiment\n",
              "0  just had a real good moment. i missssssssss hi...          0\n",
              "1         is reading manga  http://plurk.com/p/mzp1e          0\n",
              "2  @comeagainjen http://twitpic.com/2y2lx - http:...          0\n",
              "3  @lapcat Need to send 'em to my accountant tomo...          0\n",
              "4      ADD ME ON MYSPACE!!!  myspace.com/LookThunder          0"
            ]
          },
          "metadata": {},
          "execution_count": 4
        }
      ]
    },
    {
      "cell_type": "code",
      "metadata": {
        "id": "yOq9_Bf_RuIS"
      },
      "source": [
        "import re\n",
        "def remove(text):\n",
        "    return re.sub(r\"[,.\\\"!@#$%^&*(){}?/;`~:<>+=-]\", \"\", text)"
      ],
      "execution_count": 5,
      "outputs": []
    },
    {
      "cell_type": "code",
      "metadata": {
        "colab": {
          "base_uri": "https://localhost:8080/",
          "height": 424
        },
        "id": "7ZB9WcWYRw5b",
        "outputId": "b2303b09-a684-46c4-e6a9-25c7c6dfba15"
      },
      "source": [
        "data['tweets'] = data['tweets'].apply(lambda x: remove(x))\n",
        "data.drop(10313,inplace=True)\n",
        "data"
      ],
      "execution_count": 6,
      "outputs": [
        {
          "output_type": "execute_result",
          "data": {
            "text/html": [
              "<div>\n",
              "<style scoped>\n",
              "    .dataframe tbody tr th:only-of-type {\n",
              "        vertical-align: middle;\n",
              "    }\n",
              "\n",
              "    .dataframe tbody tr th {\n",
              "        vertical-align: top;\n",
              "    }\n",
              "\n",
              "    .dataframe thead th {\n",
              "        text-align: right;\n",
              "    }\n",
              "</style>\n",
              "<table border=\"1\" class=\"dataframe\">\n",
              "  <thead>\n",
              "    <tr style=\"text-align: right;\">\n",
              "      <th></th>\n",
              "      <th>tweets</th>\n",
              "      <th>sentiment</th>\n",
              "    </tr>\n",
              "  </thead>\n",
              "  <tbody>\n",
              "    <tr>\n",
              "      <th>0</th>\n",
              "      <td>just had a real good moment i missssssssss him...</td>\n",
              "      <td>0</td>\n",
              "    </tr>\n",
              "    <tr>\n",
              "      <th>1</th>\n",
              "      <td>is reading manga  httpplurkcompmzp1e</td>\n",
              "      <td>0</td>\n",
              "    </tr>\n",
              "    <tr>\n",
              "      <th>2</th>\n",
              "      <td>comeagainjen httptwitpiccom2y2lx  httpwwwyoutu...</td>\n",
              "      <td>0</td>\n",
              "    </tr>\n",
              "    <tr>\n",
              "      <th>3</th>\n",
              "      <td>lapcat Need to send 'em to my accountant tomor...</td>\n",
              "      <td>0</td>\n",
              "    </tr>\n",
              "    <tr>\n",
              "      <th>4</th>\n",
              "      <td>ADD ME ON MYSPACE  myspacecomLookThunder</td>\n",
              "      <td>0</td>\n",
              "    </tr>\n",
              "    <tr>\n",
              "      <th>...</th>\n",
              "      <td>...</td>\n",
              "      <td>...</td>\n",
              "    </tr>\n",
              "    <tr>\n",
              "      <th>10308</th>\n",
              "      <td>Many sufferers of depression aren't sad they f...</td>\n",
              "      <td>1</td>\n",
              "    </tr>\n",
              "    <tr>\n",
              "      <th>10309</th>\n",
              "      <td>No Depression by G Herbo is my mood from now o...</td>\n",
              "      <td>1</td>\n",
              "    </tr>\n",
              "    <tr>\n",
              "      <th>10310</th>\n",
              "      <td>What do you do when depression succumbs the br...</td>\n",
              "      <td>1</td>\n",
              "    </tr>\n",
              "    <tr>\n",
              "      <th>10311</th>\n",
              "      <td>Ketamine Nasal Spray Shows Promise Against Dep...</td>\n",
              "      <td>1</td>\n",
              "    </tr>\n",
              "    <tr>\n",
              "      <th>10312</th>\n",
              "      <td>dont mistake a bad day with depression everyon...</td>\n",
              "      <td>1</td>\n",
              "    </tr>\n",
              "  </tbody>\n",
              "</table>\n",
              "<p>10313 rows × 2 columns</p>\n",
              "</div>"
            ],
            "text/plain": [
              "                                                  tweets  sentiment\n",
              "0      just had a real good moment i missssssssss him...          0\n",
              "1                   is reading manga  httpplurkcompmzp1e          0\n",
              "2      comeagainjen httptwitpiccom2y2lx  httpwwwyoutu...          0\n",
              "3      lapcat Need to send 'em to my accountant tomor...          0\n",
              "4               ADD ME ON MYSPACE  myspacecomLookThunder          0\n",
              "...                                                  ...        ...\n",
              "10308  Many sufferers of depression aren't sad they f...          1\n",
              "10309  No Depression by G Herbo is my mood from now o...          1\n",
              "10310  What do you do when depression succumbs the br...          1\n",
              "10311  Ketamine Nasal Spray Shows Promise Against Dep...          1\n",
              "10312  dont mistake a bad day with depression everyon...          1\n",
              "\n",
              "[10313 rows x 2 columns]"
            ]
          },
          "metadata": {},
          "execution_count": 6
        }
      ]
    },
    {
      "cell_type": "code",
      "metadata": {
        "id": "OL0ojPXzc8ce"
      },
      "source": [
        "import re\n",
        "import tensorflow as tf\n",
        "\n",
        "max_features = 4000"
      ],
      "execution_count": 7,
      "outputs": []
    },
    {
      "cell_type": "code",
      "metadata": {
        "id": "9ubLLbQfdZmx"
      },
      "source": [
        "tokenizer = tf.keras.preprocessing.text.Tokenizer(num_words=max_features, split=' ')\n",
        "tokenizer.fit_on_texts(data['tweets'].values)"
      ],
      "execution_count": 8,
      "outputs": []
    },
    {
      "cell_type": "code",
      "metadata": {
        "id": "gt3Uk7Vtd0bD"
      },
      "source": [
        "X = tokenizer.texts_to_sequences(data['tweets'].values)"
      ],
      "execution_count": 9,
      "outputs": []
    },
    {
      "cell_type": "code",
      "metadata": {
        "id": "cGk7g5sKd7Sn"
      },
      "source": [
        "X = tf.keras.preprocessing.sequence.pad_sequences(X)"
      ],
      "execution_count": 10,
      "outputs": []
    },
    {
      "cell_type": "code",
      "metadata": {
        "colab": {
          "base_uri": "https://localhost:8080/"
        },
        "id": "o6oHsymXd--j",
        "outputId": "f9da94ac-7e80-4757-b95a-29fde7e1b836"
      },
      "source": [
        "X.shape"
      ],
      "execution_count": 11,
      "outputs": [
        {
          "output_type": "execute_result",
          "data": {
            "text/plain": [
              "(10313, 67)"
            ]
          },
          "metadata": {},
          "execution_count": 11
        }
      ]
    },
    {
      "cell_type": "code",
      "metadata": {
        "id": "yDsfgGjJeDc8"
      },
      "source": [
        "embed_dim = 256\n",
        "lstm_out = 196\n",
        "\n",
        "model = tf.keras.Sequential()\n",
        "model.add(tf.keras.layers.Embedding(max_features, embed_dim, input_length = X.shape[1]))\n",
        "model.add(tf.keras.layers.SpatialDropout1D(0.4))\n",
        "model.add(tf.keras.layers.Bidirectional(tf.keras.layers.LSTM(lstm_out, dropout=0.05, recurrent_dropout=0.2,return_sequences=True)))\n",
        "model.add(tf.keras.layers.Bidirectional(tf.keras.layers.LSTM(lstm_out, dropout=0.05, recurrent_dropout=0.2)))\n",
        "model.add(tf.keras.layers.Dense(2, activation='softmax'))\n",
        "model.compile(loss = 'categorical_crossentropy', optimizer='adam', metrics = ['accuracy'])"
      ],
      "execution_count": 12,
      "outputs": []
    },
    {
      "cell_type": "code",
      "metadata": {
        "colab": {
          "base_uri": "https://localhost:8080/"
        },
        "id": "DT6vJfQIeMVW",
        "outputId": "c662ef8a-fdab-4884-fa34-6d1996ddd5f8"
      },
      "source": [
        "model.summary()"
      ],
      "execution_count": 13,
      "outputs": [
        {
          "output_type": "stream",
          "name": "stdout",
          "text": [
            "Model: \"sequential\"\n",
            "_________________________________________________________________\n",
            "Layer (type)                 Output Shape              Param #   \n",
            "=================================================================\n",
            "embedding (Embedding)        (None, 67, 256)           1024000   \n",
            "_________________________________________________________________\n",
            "spatial_dropout1d (SpatialDr (None, 67, 256)           0         \n",
            "_________________________________________________________________\n",
            "bidirectional (Bidirectional (None, 67, 392)           710304    \n",
            "_________________________________________________________________\n",
            "bidirectional_1 (Bidirection (None, 392)               923552    \n",
            "_________________________________________________________________\n",
            "dense (Dense)                (None, 2)                 786       \n",
            "=================================================================\n",
            "Total params: 2,658,642\n",
            "Trainable params: 2,658,642\n",
            "Non-trainable params: 0\n",
            "_________________________________________________________________\n"
          ]
        }
      ]
    },
    {
      "cell_type": "code",
      "metadata": {
        "id": "S4PLBvxkewuQ"
      },
      "source": [
        "import numpy as np\n",
        "from sklearn.model_selection import train_test_split"
      ],
      "execution_count": 14,
      "outputs": []
    },
    {
      "cell_type": "code",
      "metadata": {
        "id": "uqMdlHJie3ea"
      },
      "source": [
        "Y = pd.get_dummies(data['sentiment'])"
      ],
      "execution_count": 15,
      "outputs": []
    },
    {
      "cell_type": "code",
      "metadata": {
        "id": "Wlvb5NF6e-ll"
      },
      "source": [
        "result_dict = {0: 'Negative', 1: 'Positive'}\n",
        "y_arr = np.vectorize(result_dict.get)(Y.columns)"
      ],
      "execution_count": 16,
      "outputs": []
    },
    {
      "cell_type": "code",
      "metadata": {
        "id": "UsXabPnGfC1i"
      },
      "source": [
        "Y = Y.values"
      ],
      "execution_count": 17,
      "outputs": []
    },
    {
      "cell_type": "code",
      "metadata": {
        "id": "ZtMhpEXCfInw"
      },
      "source": [
        "X_train, X_test, Y_train, Y_test = train_test_split(X, Y, test_size = 0.33, random_state = 42)"
      ],
      "execution_count": 18,
      "outputs": []
    },
    {
      "cell_type": "code",
      "metadata": {
        "colab": {
          "base_uri": "https://localhost:8080/"
        },
        "id": "O_l9RFl_fNX1",
        "outputId": "abc14c61-f86f-48c5-ba8c-db3064be8fd7"
      },
      "source": [
        "print(X_train.shape, Y_train.shape)\n",
        "print(X_test.shape, Y_test.shape)"
      ],
      "execution_count": 19,
      "outputs": [
        {
          "output_type": "stream",
          "name": "stdout",
          "text": [
            "(6909, 67) (6909, 2)\n",
            "(3404, 67) (3404, 2)\n"
          ]
        }
      ]
    },
    {
      "cell_type": "code",
      "metadata": {
        "colab": {
          "base_uri": "https://localhost:8080/"
        },
        "id": "8j9YE_LgfRd4",
        "outputId": "fb56a455-0c45-4245-858c-5759965856cc"
      },
      "source": [
        "history = model.fit(X_train, Y_train, epochs=20, batch_size=128, verbose=2)"
      ],
      "execution_count": 20,
      "outputs": [
        {
          "output_type": "stream",
          "name": "stdout",
          "text": [
            "Epoch 1/20\n",
            "54/54 - 260s - loss: 0.3050 - accuracy: 0.8657\n",
            "Epoch 2/20\n",
            "54/54 - 250s - loss: 0.0292 - accuracy: 0.9926\n",
            "Epoch 3/20\n",
            "54/54 - 250s - loss: 0.0178 - accuracy: 0.9957\n",
            "Epoch 4/20\n",
            "54/54 - 249s - loss: 0.0117 - accuracy: 0.9970\n",
            "Epoch 5/20\n",
            "54/54 - 249s - loss: 0.0071 - accuracy: 0.9981\n",
            "Epoch 6/20\n",
            "54/54 - 248s - loss: 0.0067 - accuracy: 0.9981\n",
            "Epoch 7/20\n",
            "54/54 - 249s - loss: 0.0075 - accuracy: 0.9981\n",
            "Epoch 8/20\n",
            "54/54 - 248s - loss: 0.0022 - accuracy: 0.9994\n",
            "Epoch 9/20\n",
            "54/54 - 249s - loss: 7.3616e-04 - accuracy: 0.9997\n",
            "Epoch 10/20\n",
            "54/54 - 248s - loss: 0.0023 - accuracy: 0.9993\n",
            "Epoch 11/20\n",
            "54/54 - 247s - loss: 0.0013 - accuracy: 0.9994\n",
            "Epoch 12/20\n",
            "54/54 - 248s - loss: 5.4858e-04 - accuracy: 0.9999\n",
            "Epoch 13/20\n",
            "54/54 - 250s - loss: 0.0012 - accuracy: 0.9996\n",
            "Epoch 14/20\n",
            "54/54 - 249s - loss: 0.0042 - accuracy: 0.9993\n",
            "Epoch 15/20\n",
            "54/54 - 248s - loss: 0.0021 - accuracy: 0.9996\n",
            "Epoch 16/20\n",
            "54/54 - 248s - loss: 0.0022 - accuracy: 0.9993\n",
            "Epoch 17/20\n",
            "54/54 - 248s - loss: 3.0440e-04 - accuracy: 1.0000\n",
            "Epoch 18/20\n",
            "54/54 - 248s - loss: 0.0011 - accuracy: 0.9996\n",
            "Epoch 19/20\n",
            "54/54 - 248s - loss: 0.0019 - accuracy: 0.9994\n",
            "Epoch 20/20\n",
            "54/54 - 248s - loss: 0.0011 - accuracy: 0.9999\n"
          ]
        }
      ]
    },
    {
      "cell_type": "code",
      "metadata": {
        "id": "CYMN7LXah-QJ"
      },
      "source": [
        "y_pred=np.round(model.predict(X_test))"
      ],
      "execution_count": 21,
      "outputs": []
    },
    {
      "cell_type": "code",
      "metadata": {
        "colab": {
          "base_uri": "https://localhost:8080/"
        },
        "id": "W9ONQ0MHiygP",
        "outputId": "96e8f937-dbee-4168-e984-e19785cb866b"
      },
      "source": [
        "history.history.keys()"
      ],
      "execution_count": 22,
      "outputs": [
        {
          "output_type": "execute_result",
          "data": {
            "text/plain": [
              "dict_keys(['loss', 'accuracy'])"
            ]
          },
          "metadata": {},
          "execution_count": 22
        }
      ]
    },
    {
      "cell_type": "code",
      "metadata": {
        "colab": {
          "base_uri": "https://localhost:8080/",
          "height": 573
        },
        "id": "yXhTONq3gLTN",
        "outputId": "673b65ab-de63-414c-dd07-60d7870bdc86"
      },
      "source": [
        "import matplotlib.pyplot as plt\n",
        "\n",
        "plt.plot(history.history['accuracy'])\n",
        "plt.title('model accuracy')\n",
        "plt.ylabel('accuracy')\n",
        "plt.xlabel('epoch')\n",
        "plt.legend(['train'], loc='upper left')\n",
        "plt.show()\n",
        "\n",
        "plt.plot(history.history['loss'])\n",
        "plt.title('model loss')\n",
        "plt.ylabel('loss')\n",
        "plt.xlabel('epoch')\n",
        "plt.legend(['train'], loc='upper left')\n",
        "plt.show()"
      ],
      "execution_count": 26,
      "outputs": [
        {
          "output_type": "display_data",
          "data": {
            "image/png": "[encoded data removed]",
            "text/plain": [
              "<Figure size 432x288 with 1 Axes>"
            ]
          },
          "metadata": {
            "needs_background": "light"
          }
        },
        {
          "output_type": "display_data",
          "data": {
            "image/png": "[encoded data removed]",
            "text/plain": [
              "<Figure size 432x288 with 1 Axes>"
            ]
          },
          "metadata": {
            "needs_background": "light"
          }
        }
      ]
    },
    {
      "cell_type": "code",
      "metadata": {
        "colab": {
          "base_uri": "https://localhost:8080/"
        },
        "id": "c1YAfIkBgO-U",
        "outputId": "db95f5ce-7b1d-493f-d2ea-72b71fd576d4"
      },
      "source": [
        "from sklearn.metrics import accuracy_score\n",
        "accuracy_score(Y_test,y_pred)"
      ],
      "execution_count": 27,
      "outputs": [
        {
          "output_type": "execute_result",
          "data": {
            "text/plain": [
              "0.9864864864864865"
            ]
          },
          "metadata": {},
          "execution_count": 27
        }
      ]
    },
    {
      "cell_type": "code",
      "metadata": {
        "colab": {
          "base_uri": "https://localhost:8080/"
        },
        "id": "fUWSzfTKgTRh",
        "outputId": "ae83e391-abc8-46d4-8b91-648f85501259"
      },
      "source": [
        "from sklearn.metrics import f1_score\n",
        "f1_score(Y_test, y_pred, average='micro')"
      ],
      "execution_count": 28,
      "outputs": [
        {
          "output_type": "execute_result",
          "data": {
            "text/plain": [
              "0.9864864864864865"
            ]
          },
          "metadata": {},
          "execution_count": 28
        }
      ]
    },
    {
      "cell_type": "code",
      "metadata": {
        "colab": {
          "base_uri": "https://localhost:8080/"
        },
        "id": "fJdmPofti8KX",
        "outputId": "91ae93d4-685d-4948-a8f8-051d1c5e87fe"
      },
      "source": [
        "from sklearn.metrics import precision_score\n",
        "precision_score(Y_test, y_pred, average='micro')"
      ],
      "execution_count": 29,
      "outputs": [
        {
          "output_type": "execute_result",
          "data": {
            "text/plain": [
              "0.9864864864864865"
            ]
          },
          "metadata": {},
          "execution_count": 29
        }
      ]
    },
    {
      "cell_type": "code",
      "metadata": {
        "colab": {
          "base_uri": "https://localhost:8080/"
        },
        "id": "5h6QguT-i-h1",
        "outputId": "a6253ae5-09f9-4060-8ef8-28bd2106e492"
      },
      "source": [
        "from sklearn.metrics import recall_score\n",
        "recall_score(Y_test, y_pred, average='micro')"
      ],
      "execution_count": 30,
      "outputs": [
        {
          "output_type": "execute_result",
          "data": {
            "text/plain": [
              "0.9864864864864865"
            ]
          },
          "metadata": {},
          "execution_count": 30
        }
      ]
    },
    {
      "cell_type": "code",
      "metadata": {
        "id": "wGNDCgNxuwB7"
      },
      "source": [
        "#Y_test.flatten()"
      ],
      "execution_count": 56,
      "outputs": []
    },
    {
      "cell_type": "code",
      "metadata": {
        "id": "IfdG7iuLQtmm"
      },
      "source": [
        "#from sklearn.metrics import confusion_matrix\n",
        "#from sklearn.metrics import classification_report\n",
        "#from pandas import Series\n",
        "#import numpy as np\n",
        "#y_pred=model.predict(X_test) \n",
        "#y_pred = (y_pred > 0.5)\n",
        "\n",
        "#conf=confusion_matrix(Y_test,y_pred)\n",
        "\n",
        "#print(conf)\n",
        "\n",
        "#import seaborn as sn\n",
        "\n",
        "#sn.heatmap(conf, cmap=\"Blues\", annot=True)# font size\n",
        "#conf\n"
      ],
      "execution_count": 57,
      "outputs": []
    }
  ]
}